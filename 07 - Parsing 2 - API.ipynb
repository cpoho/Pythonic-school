{
 "cells": [
  {
   "cell_type": "markdown",
   "metadata": {},
   "source": [
    "# Parsing 2 - Working with APIs"
   ]
  },
  {
   "cell_type": "markdown",
   "metadata": {},
   "source": [
    "We will parse 3d models from https://www.myminifactory.com/\n",
    "\n",
    "They have API to make apps with their data. \n",
    "\n",
    "You can read the docs here https://www.myminifactory.com/api-doc/index.html"
   ]
  },
  {
   "cell_type": "markdown",
   "metadata": {},
   "source": [
    "## Step 0 - Preparation"
   ]
  },
  {
   "cell_type": "code",
   "execution_count": null,
   "metadata": {},
   "outputs": [],
   "source": [
    "import os, shutil # working with filesystem\n",
    "import requests # get data from internet\n",
    "from math import ceil # some math\n",
    "from time import sleep # some time to sleep :)"
   ]
  },
  {
   "cell_type": "markdown",
   "metadata": {},
   "source": [
    "Set parameters"
   ]
  },
  {
   "cell_type": "code",
   "execution_count": null,
   "metadata": {},
   "outputs": [],
   "source": [
    "data_dir = \"myminifactory\" # directory to store the data\n",
    "query = \"portrait\" # search query\n",
    "per_page = 5 # results per page\n",
    "page_start = 1 # first page with search results\n",
    "total_pages = 1 # total amount of pages (will be changed to actual number)\n",
    "skip_img_download = False # if we already downloaded images we can skip this step\n",
    "skip_model_download = False # if we don't want to download models we can skip this step\n",
    "items = [] # models to download"
   ]
  },
  {
   "cell_type": "markdown",
   "metadata": {},
   "source": [
    "Create directories to store the data if they not exist"
   ]
  },
  {
   "cell_type": "code",
   "execution_count": null,
   "metadata": {},
   "outputs": [],
   "source": [
    "if not os.path.exists(data_dir):\n",
    "    os.makedirs(data_dir)\n",
    "if not os.path.exists(f\"{data_dir}/images\"):\n",
    "    os.makedirs(f\"{data_dir}/images\")\n",
    "if not os.path.exists(f\"{data_dir}/models\"):\n",
    "    os.makedirs(f\"{data_dir}/models\")"
   ]
  },
  {
   "cell_type": "markdown",
   "metadata": {},
   "source": [
    "Create cookies (website wants to be sure that you're human)"
   ]
  },
  {
   "cell_type": "code",
   "execution_count": null,
   "metadata": {},
   "outputs": [],
   "source": [
    "request_cookie = requests.post('https://www.myminifactory.com/')"
   ]
  },
  {
   "cell_type": "markdown",
   "metadata": {},
   "source": [
    "Get total amount of search results and calculate total pages"
   ]
  },
  {
   "cell_type": "code",
   "execution_count": null,
   "metadata": {},
   "outputs": [],
   "source": [
    "data_url = f\"https://www.myminifactory.com/api/v2/search?q={query}&page=0&per_page=0\"\n",
    "response = requests.get(data_url, cookies=request_cookie.cookies) \n",
    "data = response.json()\n",
    "total_pages = int(data[\"total_count\"]/per_page)+1\n",
    "print(\"Total amount of results: \", data[\"total_count\"])\n",
    "print(\"Total amount of pages: \", total_pages)"
   ]
  },
  {
   "cell_type": "code",
   "execution_count": null,
   "metadata": {},
   "outputs": [],
   "source": [
    "total_pages = 1 # this is just for the demo, we'll download only 5 objects"
   ]
  },
  {
   "cell_type": "markdown",
   "metadata": {},
   "source": [
    "## Step 1 - Download images of models"
   ]
  },
  {
   "cell_type": "markdown",
   "metadata": {},
   "source": [
    "Get results page by page and download all images to data directory"
   ]
  },
  {
   "cell_type": "code",
   "execution_count": null,
   "metadata": {},
   "outputs": [],
   "source": [
    "if not skip_img_download:\n",
    "    for page in range(page_start,total_pages+1):\n",
    "        data_url = f\"https://www.myminifactory.com/api/v2/search?q={query}&page={page}&per_page={per_page}\"\n",
    "        response = requests.get(data_url, cookies=request_cookie.cookies)\n",
    "        data = response.json()\n",
    "        print(f\"Parsing page #{page}\")\n",
    "        for item in data[\"items\"]:\n",
    "            item_dir = f'{data_dir}/images/{item[\"id\"]}'\n",
    "            print(f'Downloading {item[\"id\"]}')\n",
    "            if not os.path.exists(item_dir):\n",
    "                os.makedirs(item_dir)\n",
    "            for image in item[\"images\"]:\n",
    "                img_url = image[\"original\"][\"url\"]\n",
    "                img_id = image[\"id\"]\n",
    "                img_ext = img_url.split(\".\")[-1]\n",
    "                response = requests.get(img_url, stream=True)\n",
    "                with open(f'{item_dir}/{img_id}.{img_ext}', 'wb') as out_file:\n",
    "                    shutil.copyfileobj(response.raw, out_file)\n",
    "                del response\n",
    "                sleep(5) # wait n seconds before download next file\n",
    "        sleep(10) # wait n seconds before get next page"
   ]
  },
  {
   "cell_type": "markdown",
   "metadata": {},
   "source": [
    "Now, when we got all the images, we can check if we need this models.\n",
    "\n",
    "Sometimes search result contains some useless models which we don't want to download.\n",
    "\n",
    "Just check the image directory and delete unnecessary items"
   ]
  },
  {
   "cell_type": "markdown",
   "metadata": {},
   "source": [
    "## Step 2 - Download models"
   ]
  },
  {
   "cell_type": "markdown",
   "metadata": {},
   "source": [
    "Get ids of the models we want to download"
   ]
  },
  {
   "cell_type": "code",
   "execution_count": null,
   "metadata": {},
   "outputs": [],
   "source": [
    "if not skip_model_download:\n",
    "    for dirname in os.listdir(f\"{data_dir}/images\"):\n",
    "        if dirname[0] != \".\":\n",
    "            items.append(dirname)\n",
    "    print(items)"
   ]
  },
  {
   "cell_type": "code",
   "execution_count": null,
   "metadata": {},
   "outputs": [],
   "source": [
    "for item in items:\n",
    "    data_url = f\"https://www.myminifactory.com/api/v2/objects/{item}\"\n",
    "    response = requests.get(data_url, cookies=request_cookie.cookies)\n",
    "    data = response.json()\n",
    "    if not os.path.exists(f'{data_dir}/models/{data[\"id\"]}'):\n",
    "        os.makedirs(f'{data_dir}/models/{data[\"id\"]}')\n",
    "    for file_item in data[\"files\"][\"items\"]:\n",
    "        temp_url = file_item[\"viewer_url\"]\n",
    "        filedata = temp_url.split(\"/\")[-2:]\n",
    "        fileid = file_item[\"id\"]\n",
    "        download_url = f\"https://cdn.myminifactory.com/assets/object-assets/{filedata[0]}/threedfiles/{filedata[1]}\"\n",
    "        print(f\"Downloading {data['id']} to {data_dir}/models/{data['id']}/{filedata[1]}\")\n",
    "        response = requests.get(download_url, stream=True)\n",
    "        with open(f'{data_dir}/models/{data[\"id\"]}/{filedata[1]}', 'wb') as out_file:\n",
    "            shutil.copyfileobj(response.raw, out_file)\n",
    "        del response\n",
    "        sleep(10) # wait n seconds before download next file\n",
    "    sleep(10) # wait n seconds before get next page"
   ]
  },
  {
   "cell_type": "markdown",
   "metadata": {},
   "source": [
    "Now you can check your data directory and decide which models do you need"
   ]
  },
  {
   "cell_type": "markdown",
   "metadata": {},
   "source": [
    "## Thank you!"
   ]
  }
 ],
 "metadata": {
  "kernelspec": {
   "display_name": "Python 3",
   "language": "python",
   "name": "python3"
  },
  "language_info": {
   "codemirror_mode": {
    "name": "ipython",
    "version": 3
   },
   "file_extension": ".py",
   "mimetype": "text/x-python",
   "name": "python",
   "nbconvert_exporter": "python",
   "pygments_lexer": "ipython3",
   "version": "3.7.3"
  }
 },
 "nbformat": 4,
 "nbformat_minor": 2
}
